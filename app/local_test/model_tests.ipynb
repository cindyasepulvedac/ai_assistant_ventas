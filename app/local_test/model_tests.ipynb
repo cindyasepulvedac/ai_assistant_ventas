{
 "cells": [
  {
   "cell_type": "code",
   "execution_count": 1,
   "metadata": {},
   "outputs": [],
   "source": [
    "from PIL import Image\n",
    "from pathlib import Path\n",
    "import time\n",
    "import io\n",
    "from langchain_openai import AzureChatOpenAI\n",
    "from langchain_core.messages import HumanMessage, SystemMessage\n",
    "import os\n",
    "import base64"
   ]
  },
  {
   "cell_type": "code",
   "execution_count": 2,
   "metadata": {},
   "outputs": [],
   "source": [
    "## Inicialización del modelo de lenguaje Azure OpenAI\n",
    "model = AzureChatOpenAI(\n",
    "    azure_endpoint=os.environ[\"AZURE_OPENAI_ENDPOINT\"],\n",
    "    openai_api_key=os.environ[\"AZURE_OPENAI_API_KEY\"],\n",
    "    deployment_name=os.environ[\"AZURE_OPENAI_LLM_DEPLOYMENT\"],\n",
    "    api_version=os.environ[\"AZURE_OPENAI_API_VERSION\"],\n",
    "    temperature=0.5\n",
    ")"
   ]
  },
  {
   "cell_type": "code",
   "execution_count": 3,
   "metadata": {},
   "outputs": [
    {
     "name": "stdout",
     "output_type": "stream",
     "text": [
      "user\n",
      "He recibido tu mensaje. ¿Puedes darme más detalles?\n",
      "16:21\n"
     ]
    }
   ],
   "source": [
    "message = {\n",
    "        \"role\": \"user\",\n",
    "        \"content\": \"He recibido tu mensaje. ¿Puedes darme más detalles?\",\n",
    "        \"timestamp\": time.strftime(\"%H:%M\")\n",
    "    }\n",
    "\n",
    "\"\"\"Muestra el historial de mensajes.\"\"\"\n",
    "print(message[\"role\"])\n",
    "print(message[\"content\"])\n",
    "print(message['timestamp'])"
   ]
  },
  {
   "cell_type": "code",
   "execution_count": 5,
   "metadata": {},
   "outputs": [],
   "source": [
    "def generate_ai_response(user_input):\n",
    "    messages = [\n",
    "                SystemMessage(\n",
    "                    content=\"\"\"You are an assistant to help answer questions regarding biodiversity in Comfama parks.\n",
    "                            Yor are kind and well-mannered. Always greet, say goodbye and answer when people thank you, when appopiate.\n",
    "                            After each response you give, ask people \"¿En qué más puedo ayudarte?\"\n",
    "                            Only answer questions related to biodiversity and nature. If any othe topic is mentioned, always answer \"Lo siento, sólo puedo brindarte información sobre biodiversidad y naturaleza\"\n",
    "                            Always return the response in Spanish.\"\"\"\n",
    "                ),\n",
    "                HumanMessage(\n",
    "                        content=[\n",
    "                            {\n",
    "                                \"type\": \"text\", \n",
    "                                \"text\": user_input\n",
    "                            }\n",
    "                        ]\n",
    "                    )\n",
    "\n",
    "            ]\n",
    "    \n",
    "    return messages\n",
    "\n",
    "user_input = 'Hola, ¿Cómo estás?'\n",
    "messages = generate_ai_response(user_input)\n",
    "response = model.invoke(messages)"
   ]
  }
 ],
 "metadata": {
  "kernelspec": {
   "display_name": "detector_biodiversidad",
   "language": "python",
   "name": "python3"
  },
  "language_info": {
   "codemirror_mode": {
    "name": "ipython",
    "version": 3
   },
   "file_extension": ".py",
   "mimetype": "text/x-python",
   "name": "python",
   "nbconvert_exporter": "python",
   "pygments_lexer": "ipython3",
   "version": "3.9.20"
  }
 },
 "nbformat": 4,
 "nbformat_minor": 2
}
